{
 "cells": [
  {
   "cell_type": "code",
   "execution_count": 18,
   "id": "99b3164d-c5b5-4768-af8b-9123036f4b3a",
   "metadata": {},
   "outputs": [],
   "source": [
    "#geral\n",
    "import pandas as pd\n",
    "import numpy as np\n",
    "\n",
    "#sklearn\n",
    "from sklearn.feature_extraction.text import CountVectorizer, TfidfTransformer\n",
    "\n",
    "#visual\n",
    "import matplotlib.pyplot as plt\n",
    "import seaborn as sns\n",
    "from pprint import pp\n",
    "from datasets import load_metric\n",
    "from sklearn.metrics import confusion_matrix, classification_report\n",
    "import numpy as np"
   ]
  },
  {
   "cell_type": "code",
   "execution_count": 2,
   "id": "5799cd10-8d12-41b0-92ce-b6ec0c8f6eaa",
   "metadata": {},
   "outputs": [],
   "source": [
    "df = pd.read_csv('data/all_data.csv')"
   ]
  },
  {
   "cell_type": "code",
   "execution_count": 3,
   "id": "cf2b8661-8db4-4641-81ce-ccda90645d59",
   "metadata": {},
   "outputs": [
    {
     "data": {
      "text/html": [
       "<div>\n",
       "<style scoped>\n",
       "    .dataframe tbody tr th:only-of-type {\n",
       "        vertical-align: middle;\n",
       "    }\n",
       "\n",
       "    .dataframe tbody tr th {\n",
       "        vertical-align: top;\n",
       "    }\n",
       "\n",
       "    .dataframe thead th {\n",
       "        text-align: right;\n",
       "    }\n",
       "</style>\n",
       "<table border=\"1\" class=\"dataframe\">\n",
       "  <thead>\n",
       "    <tr style=\"text-align: right;\">\n",
       "      <th></th>\n",
       "      <th>id</th>\n",
       "      <th>comment_text</th>\n",
       "      <th>split</th>\n",
       "      <th>created_date</th>\n",
       "      <th>publication_id</th>\n",
       "      <th>parent_id</th>\n",
       "      <th>article_id</th>\n",
       "      <th>rating</th>\n",
       "      <th>funny</th>\n",
       "      <th>wow</th>\n",
       "      <th>...</th>\n",
       "      <th>white</th>\n",
       "      <th>asian</th>\n",
       "      <th>latino</th>\n",
       "      <th>other_race_or_ethnicity</th>\n",
       "      <th>physical_disability</th>\n",
       "      <th>intellectual_or_learning_disability</th>\n",
       "      <th>psychiatric_or_mental_illness</th>\n",
       "      <th>other_disability</th>\n",
       "      <th>identity_annotator_count</th>\n",
       "      <th>toxicity_annotator_count</th>\n",
       "    </tr>\n",
       "  </thead>\n",
       "  <tbody>\n",
       "    <tr>\n",
       "      <th>0</th>\n",
       "      <td>1083994</td>\n",
       "      <td>He got his money... now he lies in wait till a...</td>\n",
       "      <td>train</td>\n",
       "      <td>2017-03-06 15:21:53.675241+00</td>\n",
       "      <td>21</td>\n",
       "      <td>NaN</td>\n",
       "      <td>317120</td>\n",
       "      <td>approved</td>\n",
       "      <td>0</td>\n",
       "      <td>0</td>\n",
       "      <td>...</td>\n",
       "      <td>NaN</td>\n",
       "      <td>NaN</td>\n",
       "      <td>NaN</td>\n",
       "      <td>NaN</td>\n",
       "      <td>NaN</td>\n",
       "      <td>NaN</td>\n",
       "      <td>NaN</td>\n",
       "      <td>NaN</td>\n",
       "      <td>0</td>\n",
       "      <td>67</td>\n",
       "    </tr>\n",
       "    <tr>\n",
       "      <th>1</th>\n",
       "      <td>650904</td>\n",
       "      <td>Mad dog will surely put the liberals in mental...</td>\n",
       "      <td>train</td>\n",
       "      <td>2016-12-02 16:44:21.329535+00</td>\n",
       "      <td>21</td>\n",
       "      <td>NaN</td>\n",
       "      <td>154086</td>\n",
       "      <td>approved</td>\n",
       "      <td>0</td>\n",
       "      <td>0</td>\n",
       "      <td>...</td>\n",
       "      <td>NaN</td>\n",
       "      <td>NaN</td>\n",
       "      <td>NaN</td>\n",
       "      <td>NaN</td>\n",
       "      <td>NaN</td>\n",
       "      <td>NaN</td>\n",
       "      <td>NaN</td>\n",
       "      <td>NaN</td>\n",
       "      <td>0</td>\n",
       "      <td>76</td>\n",
       "    </tr>\n",
       "    <tr>\n",
       "      <th>2</th>\n",
       "      <td>5902188</td>\n",
       "      <td>And Trump continues his lifelong cowardice by ...</td>\n",
       "      <td>train</td>\n",
       "      <td>2017-09-05 19:05:32.341360+00</td>\n",
       "      <td>55</td>\n",
       "      <td>NaN</td>\n",
       "      <td>374342</td>\n",
       "      <td>approved</td>\n",
       "      <td>1</td>\n",
       "      <td>0</td>\n",
       "      <td>...</td>\n",
       "      <td>NaN</td>\n",
       "      <td>NaN</td>\n",
       "      <td>NaN</td>\n",
       "      <td>NaN</td>\n",
       "      <td>NaN</td>\n",
       "      <td>NaN</td>\n",
       "      <td>NaN</td>\n",
       "      <td>NaN</td>\n",
       "      <td>0</td>\n",
       "      <td>63</td>\n",
       "    </tr>\n",
       "    <tr>\n",
       "      <th>3</th>\n",
       "      <td>7084460</td>\n",
       "      <td>\"while arresting a man for resisting arrest\".\\...</td>\n",
       "      <td>test</td>\n",
       "      <td>2016-11-01 16:53:33.561631+00</td>\n",
       "      <td>13</td>\n",
       "      <td>NaN</td>\n",
       "      <td>149218</td>\n",
       "      <td>approved</td>\n",
       "      <td>0</td>\n",
       "      <td>0</td>\n",
       "      <td>...</td>\n",
       "      <td>NaN</td>\n",
       "      <td>NaN</td>\n",
       "      <td>NaN</td>\n",
       "      <td>NaN</td>\n",
       "      <td>NaN</td>\n",
       "      <td>NaN</td>\n",
       "      <td>NaN</td>\n",
       "      <td>NaN</td>\n",
       "      <td>0</td>\n",
       "      <td>76</td>\n",
       "    </tr>\n",
       "    <tr>\n",
       "      <th>4</th>\n",
       "      <td>5410943</td>\n",
       "      <td>Tucker and Paul are both total bad ass mofo's.</td>\n",
       "      <td>train</td>\n",
       "      <td>2017-06-14 05:08:21.997315+00</td>\n",
       "      <td>21</td>\n",
       "      <td>NaN</td>\n",
       "      <td>344096</td>\n",
       "      <td>approved</td>\n",
       "      <td>0</td>\n",
       "      <td>0</td>\n",
       "      <td>...</td>\n",
       "      <td>NaN</td>\n",
       "      <td>NaN</td>\n",
       "      <td>NaN</td>\n",
       "      <td>NaN</td>\n",
       "      <td>NaN</td>\n",
       "      <td>NaN</td>\n",
       "      <td>NaN</td>\n",
       "      <td>NaN</td>\n",
       "      <td>0</td>\n",
       "      <td>80</td>\n",
       "    </tr>\n",
       "    <tr>\n",
       "      <th>...</th>\n",
       "      <td>...</td>\n",
       "      <td>...</td>\n",
       "      <td>...</td>\n",
       "      <td>...</td>\n",
       "      <td>...</td>\n",
       "      <td>...</td>\n",
       "      <td>...</td>\n",
       "      <td>...</td>\n",
       "      <td>...</td>\n",
       "      <td>...</td>\n",
       "      <td>...</td>\n",
       "      <td>...</td>\n",
       "      <td>...</td>\n",
       "      <td>...</td>\n",
       "      <td>...</td>\n",
       "      <td>...</td>\n",
       "      <td>...</td>\n",
       "      <td>...</td>\n",
       "      <td>...</td>\n",
       "      <td>...</td>\n",
       "      <td>...</td>\n",
       "    </tr>\n",
       "    <tr>\n",
       "      <th>1999511</th>\n",
       "      <td>1018736</td>\n",
       "      <td>Another man shamming article. If white men did...</td>\n",
       "      <td>train</td>\n",
       "      <td>2017-02-20 07:20:49.964620+00</td>\n",
       "      <td>54</td>\n",
       "      <td>NaN</td>\n",
       "      <td>169202</td>\n",
       "      <td>approved</td>\n",
       "      <td>0</td>\n",
       "      <td>0</td>\n",
       "      <td>...</td>\n",
       "      <td>0.8</td>\n",
       "      <td>0.0</td>\n",
       "      <td>0.0</td>\n",
       "      <td>0.0</td>\n",
       "      <td>0.000000</td>\n",
       "      <td>0.0</td>\n",
       "      <td>0.0</td>\n",
       "      <td>0.00000</td>\n",
       "      <td>10</td>\n",
       "      <td>10</td>\n",
       "    </tr>\n",
       "    <tr>\n",
       "      <th>1999512</th>\n",
       "      <td>340016</td>\n",
       "      <td>\"no matter what is put in front of you regardi...</td>\n",
       "      <td>train</td>\n",
       "      <td>2016-06-06 06:43:04.780968+00</td>\n",
       "      <td>21</td>\n",
       "      <td>339965.0</td>\n",
       "      <td>137961</td>\n",
       "      <td>approved</td>\n",
       "      <td>0</td>\n",
       "      <td>0</td>\n",
       "      <td>...</td>\n",
       "      <td>0.0</td>\n",
       "      <td>0.0</td>\n",
       "      <td>0.0</td>\n",
       "      <td>0.0</td>\n",
       "      <td>0.000000</td>\n",
       "      <td>0.0</td>\n",
       "      <td>0.0</td>\n",
       "      <td>0.00000</td>\n",
       "      <td>10</td>\n",
       "      <td>10</td>\n",
       "    </tr>\n",
       "    <tr>\n",
       "      <th>1999513</th>\n",
       "      <td>919629</td>\n",
       "      <td>The Democrat party aided and abetted by it's M...</td>\n",
       "      <td>train</td>\n",
       "      <td>2017-01-30 02:44:29.168863+00</td>\n",
       "      <td>54</td>\n",
       "      <td>NaN</td>\n",
       "      <td>164845</td>\n",
       "      <td>rejected</td>\n",
       "      <td>0</td>\n",
       "      <td>1</td>\n",
       "      <td>...</td>\n",
       "      <td>0.0</td>\n",
       "      <td>0.0</td>\n",
       "      <td>0.0</td>\n",
       "      <td>0.0</td>\n",
       "      <td>0.000000</td>\n",
       "      <td>0.0</td>\n",
       "      <td>0.0</td>\n",
       "      <td>0.00000</td>\n",
       "      <td>11</td>\n",
       "      <td>10</td>\n",
       "    </tr>\n",
       "    <tr>\n",
       "      <th>1999514</th>\n",
       "      <td>5165492</td>\n",
       "      <td>I just don't find her a very good representati...</td>\n",
       "      <td>train</td>\n",
       "      <td>2017-04-22 18:42:02.442987+00</td>\n",
       "      <td>54</td>\n",
       "      <td>NaN</td>\n",
       "      <td>328877</td>\n",
       "      <td>approved</td>\n",
       "      <td>1</td>\n",
       "      <td>0</td>\n",
       "      <td>...</td>\n",
       "      <td>0.0</td>\n",
       "      <td>0.0</td>\n",
       "      <td>0.0</td>\n",
       "      <td>0.0</td>\n",
       "      <td>0.003717</td>\n",
       "      <td>0.0</td>\n",
       "      <td>0.0</td>\n",
       "      <td>0.00000</td>\n",
       "      <td>269</td>\n",
       "      <td>10</td>\n",
       "    </tr>\n",
       "    <tr>\n",
       "      <th>1999515</th>\n",
       "      <td>4984105</td>\n",
       "      <td>You know the Trump fanatics are trolling the G...</td>\n",
       "      <td>train</td>\n",
       "      <td>2017-03-10 00:55:35.369198+00</td>\n",
       "      <td>54</td>\n",
       "      <td>807615.0</td>\n",
       "      <td>156960</td>\n",
       "      <td>approved</td>\n",
       "      <td>1</td>\n",
       "      <td>0</td>\n",
       "      <td>...</td>\n",
       "      <td>0.0</td>\n",
       "      <td>0.0</td>\n",
       "      <td>0.0</td>\n",
       "      <td>0.0</td>\n",
       "      <td>0.000000</td>\n",
       "      <td>0.0</td>\n",
       "      <td>0.0</td>\n",
       "      <td>0.00064</td>\n",
       "      <td>1562</td>\n",
       "      <td>10</td>\n",
       "    </tr>\n",
       "  </tbody>\n",
       "</table>\n",
       "<p>1999516 rows × 46 columns</p>\n",
       "</div>"
      ],
      "text/plain": [
       "              id                                       comment_text  split  \\\n",
       "0        1083994  He got his money... now he lies in wait till a...  train   \n",
       "1         650904  Mad dog will surely put the liberals in mental...  train   \n",
       "2        5902188  And Trump continues his lifelong cowardice by ...  train   \n",
       "3        7084460  \"while arresting a man for resisting arrest\".\\...   test   \n",
       "4        5410943     Tucker and Paul are both total bad ass mofo's.  train   \n",
       "...          ...                                                ...    ...   \n",
       "1999511  1018736  Another man shamming article. If white men did...  train   \n",
       "1999512   340016  \"no matter what is put in front of you regardi...  train   \n",
       "1999513   919629  The Democrat party aided and abetted by it's M...  train   \n",
       "1999514  5165492  I just don't find her a very good representati...  train   \n",
       "1999515  4984105  You know the Trump fanatics are trolling the G...  train   \n",
       "\n",
       "                          created_date  publication_id  parent_id  article_id  \\\n",
       "0        2017-03-06 15:21:53.675241+00              21        NaN      317120   \n",
       "1        2016-12-02 16:44:21.329535+00              21        NaN      154086   \n",
       "2        2017-09-05 19:05:32.341360+00              55        NaN      374342   \n",
       "3        2016-11-01 16:53:33.561631+00              13        NaN      149218   \n",
       "4        2017-06-14 05:08:21.997315+00              21        NaN      344096   \n",
       "...                                ...             ...        ...         ...   \n",
       "1999511  2017-02-20 07:20:49.964620+00              54        NaN      169202   \n",
       "1999512  2016-06-06 06:43:04.780968+00              21   339965.0      137961   \n",
       "1999513  2017-01-30 02:44:29.168863+00              54        NaN      164845   \n",
       "1999514  2017-04-22 18:42:02.442987+00              54        NaN      328877   \n",
       "1999515  2017-03-10 00:55:35.369198+00              54   807615.0      156960   \n",
       "\n",
       "           rating  funny  wow  ...  white  asian  latino  \\\n",
       "0        approved      0    0  ...    NaN    NaN     NaN   \n",
       "1        approved      0    0  ...    NaN    NaN     NaN   \n",
       "2        approved      1    0  ...    NaN    NaN     NaN   \n",
       "3        approved      0    0  ...    NaN    NaN     NaN   \n",
       "4        approved      0    0  ...    NaN    NaN     NaN   \n",
       "...           ...    ...  ...  ...    ...    ...     ...   \n",
       "1999511  approved      0    0  ...    0.8    0.0     0.0   \n",
       "1999512  approved      0    0  ...    0.0    0.0     0.0   \n",
       "1999513  rejected      0    1  ...    0.0    0.0     0.0   \n",
       "1999514  approved      1    0  ...    0.0    0.0     0.0   \n",
       "1999515  approved      1    0  ...    0.0    0.0     0.0   \n",
       "\n",
       "         other_race_or_ethnicity  physical_disability  \\\n",
       "0                            NaN                  NaN   \n",
       "1                            NaN                  NaN   \n",
       "2                            NaN                  NaN   \n",
       "3                            NaN                  NaN   \n",
       "4                            NaN                  NaN   \n",
       "...                          ...                  ...   \n",
       "1999511                      0.0             0.000000   \n",
       "1999512                      0.0             0.000000   \n",
       "1999513                      0.0             0.000000   \n",
       "1999514                      0.0             0.003717   \n",
       "1999515                      0.0             0.000000   \n",
       "\n",
       "         intellectual_or_learning_disability  psychiatric_or_mental_illness  \\\n",
       "0                                        NaN                            NaN   \n",
       "1                                        NaN                            NaN   \n",
       "2                                        NaN                            NaN   \n",
       "3                                        NaN                            NaN   \n",
       "4                                        NaN                            NaN   \n",
       "...                                      ...                            ...   \n",
       "1999511                                  0.0                            0.0   \n",
       "1999512                                  0.0                            0.0   \n",
       "1999513                                  0.0                            0.0   \n",
       "1999514                                  0.0                            0.0   \n",
       "1999515                                  0.0                            0.0   \n",
       "\n",
       "         other_disability  identity_annotator_count  toxicity_annotator_count  \n",
       "0                     NaN                         0                        67  \n",
       "1                     NaN                         0                        76  \n",
       "2                     NaN                         0                        63  \n",
       "3                     NaN                         0                        76  \n",
       "4                     NaN                         0                        80  \n",
       "...                   ...                       ...                       ...  \n",
       "1999511           0.00000                        10                        10  \n",
       "1999512           0.00000                        10                        10  \n",
       "1999513           0.00000                        11                        10  \n",
       "1999514           0.00000                       269                        10  \n",
       "1999515           0.00064                      1562                        10  \n",
       "\n",
       "[1999516 rows x 46 columns]"
      ]
     },
     "execution_count": 3,
     "metadata": {},
     "output_type": "execute_result"
    }
   ],
   "source": [
    "df"
   ]
  },
  {
   "cell_type": "code",
   "execution_count": 4,
   "id": "fee56aaf-92cc-4587-b630-84b8d86f1d5d",
   "metadata": {},
   "outputs": [
    {
     "data": {
      "text/plain": [
       "id                                           0\n",
       "comment_text                                 1\n",
       "split                                        0\n",
       "created_date                                 0\n",
       "publication_id                               0\n",
       "parent_id                               864807\n",
       "article_id                                   0\n",
       "rating                                       0\n",
       "funny                                        0\n",
       "wow                                          0\n",
       "sad                                          0\n",
       "likes                                        0\n",
       "disagree                                     0\n",
       "toxicity                                     0\n",
       "severe_toxicity                              0\n",
       "obscene                                      0\n",
       "sexual_explicit                              0\n",
       "identity_attack                              0\n",
       "insult                                       0\n",
       "threat                                       0\n",
       "male                                   1551516\n",
       "female                                 1551516\n",
       "transgender                            1551516\n",
       "other_gender                           1551516\n",
       "heterosexual                           1551516\n",
       "homosexual_gay_or_lesbian              1551516\n",
       "bisexual                               1551516\n",
       "other_sexual_orientation               1551516\n",
       "christian                              1551516\n",
       "jewish                                 1551516\n",
       "muslim                                 1551516\n",
       "hindu                                  1551516\n",
       "buddhist                               1551516\n",
       "atheist                                1551516\n",
       "other_religion                         1551516\n",
       "black                                  1551516\n",
       "white                                  1551516\n",
       "asian                                  1551516\n",
       "latino                                 1551516\n",
       "other_race_or_ethnicity                1551516\n",
       "physical_disability                    1551516\n",
       "intellectual_or_learning_disability    1551516\n",
       "psychiatric_or_mental_illness          1551516\n",
       "other_disability                       1551516\n",
       "identity_annotator_count                     0\n",
       "toxicity_annotator_count                     0\n",
       "dtype: int64"
      ]
     },
     "execution_count": 4,
     "metadata": {},
     "output_type": "execute_result"
    }
   ],
   "source": [
    "df.isnull().sum()"
   ]
  },
  {
   "cell_type": "code",
   "execution_count": 5,
   "id": "296cc47d-8fa7-438f-83eb-ee904636ea65",
   "metadata": {},
   "outputs": [
    {
     "name": "stdout",
     "output_type": "stream",
     "text": [
      "(1999515, 21)\n"
     ]
    },
    {
     "data": {
      "text/plain": [
       "id                          0\n",
       "comment_text                0\n",
       "split                       0\n",
       "created_date                0\n",
       "publication_id              0\n",
       "article_id                  0\n",
       "rating                      0\n",
       "funny                       0\n",
       "wow                         0\n",
       "sad                         0\n",
       "likes                       0\n",
       "disagree                    0\n",
       "toxicity                    0\n",
       "severe_toxicity             0\n",
       "obscene                     0\n",
       "sexual_explicit             0\n",
       "identity_attack             0\n",
       "insult                      0\n",
       "threat                      0\n",
       "identity_annotator_count    0\n",
       "toxicity_annotator_count    0\n",
       "dtype: int64"
      ]
     },
     "execution_count": 5,
     "metadata": {},
     "output_type": "execute_result"
    }
   ],
   "source": [
    "df.dropna(subset=['comment_text', 'toxicity'], inplace=True)\n",
    "df.dropna(axis='columns', inplace=True)\n",
    "print(df.shape)\n",
    "df.isnull().sum()"
   ]
  },
  {
   "cell_type": "code",
   "execution_count": 7,
   "id": "7e2543d0-e6f5-4f17-ad51-f726d3c6e229",
   "metadata": {},
   "outputs": [
    {
     "data": {
      "text/plain": [
       "(1971915, 21)"
      ]
     },
     "execution_count": 7,
     "metadata": {},
     "output_type": "execute_result"
    }
   ],
   "source": [
    "# remove duplicados\n",
    "df.drop_duplicates(subset=['comment_text',], keep='first', inplace=True)\n",
    "df.shape # 1999515 - 1971915 = 27600 duplicados"
   ]
  },
  {
   "cell_type": "code",
   "execution_count": 8,
   "id": "054d772a-ca5e-4265-a8c0-9d15a79e6f8f",
   "metadata": {},
   "outputs": [],
   "source": [
    "df.comment_text = df.comment_text.replace('\\xad', '', regex=True)  # remove os caracteres \\xad que aparecem em alguns spams\n"
   ]
  },
  {
   "cell_type": "code",
   "execution_count": 9,
   "id": "4c3c36a9-4efb-4d98-850d-0c63e6081c9e",
   "metadata": {},
   "outputs": [
    {
     "data": {
      "text/plain": [
       "<AxesSubplot:xlabel='toxicity', ylabel='Density'>"
      ]
     },
     "execution_count": 9,
     "metadata": {},
     "output_type": "execute_result"
    },
    {
     "data": {
      "image/png": "[encoded data removed]",
      "text/plain": [
       "<Figure size 432x288 with 1 Axes>"
      ]
     },
     "metadata": {
      "needs_background": "light"
     },
     "output_type": "display_data"
    }
   ],
   "source": [
    "sns.kdeplot(df.toxicity)"
   ]
  },
  {
   "cell_type": "code",
   "execution_count": 10,
   "id": "d82f2a40-ad61-4617-889f-3a5e181d95d1",
   "metadata": {},
   "outputs": [
    {
     "data": {
      "image/png": "[encoded data removed]",
      "text/plain": [
       "<Figure size 576x396 with 1 Axes>"
      ]
     },
     "metadata": {},
     "output_type": "display_data"
    }
   ],
   "source": [
    "plt.style.use('seaborn')\n",
    "#create pie chart\n",
    "count_toxic = (df.toxicity >= 0.5).value_counts()\n",
    "plt.pie(count_toxic, labels=count_toxic.index, autopct='%.0f%%')\n",
    "plt.title(\"Toxic (%)\")\n",
    "plt.show()"
   ]
  },
  {
   "cell_type": "code",
   "execution_count": 11,
   "id": "50b62828-4e8d-4da9-8144-7e6acd8b5424",
   "metadata": {},
   "outputs": [
    {
     "data": {
      "text/plain": [
       "<AxesSubplot:xlabel='comment_text', ylabel='Density'>"
      ]
     },
     "execution_count": 11,
     "metadata": {},
     "output_type": "execute_result"
    },
    {
     "data": {
      "image/png": "[encoded data removed]",
      "text/plain": [
       "<Figure size 576x396 with 1 Axes>"
      ]
     },
     "metadata": {},
     "output_type": "display_data"
    }
   ],
   "source": [
    "sns.kdeplot(df.comment_text.str.len())"
   ]
  },
  {
   "cell_type": "code",
   "execution_count": 12,
   "id": "9aea6e8b-d70a-4812-8d56-c46976f4b201",
   "metadata": {},
   "outputs": [],
   "source": [
    "df['label'] = np.where(df['toxicity'] >= 0.5, 1, 0)"
   ]
  },
  {
   "cell_type": "code",
   "execution_count": 13,
   "id": "d259e6ed-d49a-44f9-84f6-b170e5a9da5f",
   "metadata": {},
   "outputs": [
    {
     "data": {
      "text/plain": [
       "DatasetDict({\n",
       "    train: Dataset({\n",
       "        features: ['comment_text', 'label'],\n",
       "        num_rows: 283813\n",
       "    })\n",
       "    test: Dataset({\n",
       "        features: ['comment_text', 'label'],\n",
       "        num_rows: 31535\n",
       "    })\n",
       "})"
      ]
     },
     "execution_count": 13,
     "metadata": {},
     "output_type": "execute_result"
    }
   ],
   "source": [
    "from datasets import Dataset, DatasetDict\n",
    "from imblearn.under_sampling import RandomUnderSampler\n",
    "from sklearn.model_selection import train_test_split\n",
    "\n",
    "\n",
    "X = df.comment_text.to_numpy().reshape(-1,1)\n",
    "y = np.where(df[['toxicity']] >= 0.5, 1, 0).reshape(-1,1)\n",
    "\n",
    "under_sampler = RandomUnderSampler(random_state=0)\n",
    "X, y = under_sampler.fit_resample(X, y)\n",
    "\n",
    "raw_datasets = Dataset.from_dict({\n",
    "    'comment_text': X.ravel(),\n",
    "    'label': y,\n",
    "}).train_test_split(train_size=0.9, test_size=0.1)\n",
    "\n",
    "raw_datasets"
   ]
  },
  {
   "cell_type": "code",
   "execution_count": 14,
   "id": "90a4637f-f982-46a4-ae90-88e965e63eab",
   "metadata": {},
   "outputs": [
    {
     "data": {
      "application/vnd.jupyter.widget-view+json": {
       "model_id": "ef55dfdc3f5346008b19497642ad084e",
       "version_major": 2,
       "version_minor": 0
      },
      "text/plain": [
       "  0%|          | 0/284 [00:00<?, ?ba/s]"
      ]
     },
     "metadata": {},
     "output_type": "display_data"
    },
    {
     "data": {
      "application/vnd.jupyter.widget-view+json": {
       "model_id": "f21bb4c33ba94fb6bbdc2ea31dca0366",
       "version_major": 2,
       "version_minor": 0
      },
      "text/plain": [
       "  0%|          | 0/32 [00:00<?, ?ba/s]"
      ]
     },
     "metadata": {},
     "output_type": "display_data"
    }
   ],
   "source": [
    "from transformers import AutoTokenizer, TrainingArguments, Trainer, AutoModelForSequenceClassification, DataCollatorWithPadding\n",
    "from datasets import load_metric\n",
    "\n",
    "checkpoint = 'toxicity/checkpoint-189210'\n",
    "# checkpoint = 'bert-base-cased'\n",
    "tokenizer = AutoTokenizer.from_pretrained(checkpoint)\n",
    "model = AutoModelForSequenceClassification.from_pretrained(checkpoint, num_labels=2)\n",
    "\n",
    "\n",
    "def tokenize_function(example):\n",
    "    return tokenizer(example[\"comment_text\"], truncation=True)\n",
    "\n",
    "tokenized_datasets = raw_datasets.map(tokenize_function, batched=True)\n"
   ]
  },
  {
   "cell_type": "code",
   "execution_count": 15,
   "id": "18a8789b-a692-4051-a33b-008984b752d8",
   "metadata": {},
   "outputs": [],
   "source": [
    "data_collator = DataCollatorWithPadding(tokenizer=tokenizer)\n",
    "\n",
    "def compute_metrics(eval_preds):\n",
    "    metric = load_metric(\"glue\", \"mrpc\")\n",
    "    logits, labels = eval_preds\n",
    "    predictions = np.argmax(logits, axis=-1)\n",
    "    return metric.compute(predictions=predictions, references=labels)\n",
    "\n",
    "training_args = TrainingArguments(\n",
    "    \"toxicity\", \n",
    "    per_device_train_batch_size=3, \n",
    "    evaluation_strategy=\"epoch\",\n",
    "    learning_rate=2e-5,\n",
    "    num_train_epochs=2,\n",
    "    save_total_limit=5,\n",
    "    save_strategy='epoch',\n",
    "    load_best_model_at_end=True,\n",
    ")\n",
    "\n",
    "trainer = Trainer(\n",
    "    model,\n",
    "    training_args,\n",
    "    train_dataset=tokenized_datasets[\"train\"],\n",
    "    eval_dataset=tokenized_datasets[\"test\"],\n",
    "    data_collator=data_collator,\n",
    "    tokenizer=tokenizer,\n",
    "    compute_metrics=compute_metrics\n",
    ")"
   ]
  },
  {
   "cell_type": "code",
   "execution_count": 15,
   "id": "eab8af32-7bd9-4c82-a4fd-82dcf692df79",
   "metadata": {},
   "outputs": [],
   "source": [
    "# trainer.train()"
   ]
  },
  {
   "cell_type": "code",
   "execution_count": 16,
   "id": "9bfaa840-46fe-4b84-8364-94c2ac83690d",
   "metadata": {},
   "outputs": [
    {
     "name": "stderr",
     "output_type": "stream",
     "text": [
      "The following columns in the test set  don't have a corresponding argument in `BertForSequenceClassification.forward` and have been ignored: comment_text.\n",
      "***** Running Prediction *****\n",
      "  Num examples = 31535\n",
      "  Batch size = 8\n"
     ]
    },
    {
     "data": {
      "text/html": [
       "\n",
       "    <div>\n",
       "      \n",
       "      <progress value='26867' max='3942' style='width:300px; height:20px; vertical-align: middle;'></progress>\n",
       "      [3942/3942 1:34:28]\n",
       "    </div>\n",
       "    "
      ],
      "text/plain": [
       "<IPython.core.display.HTML object>"
      ]
     },
     "metadata": {},
     "output_type": "display_data"
    },
    {
     "name": "stdout",
     "output_type": "stream",
     "text": [
      "(31535, 2) (31535,)\n"
     ]
    },
    {
     "data": {
      "text/plain": [
       "{'accuracy': 0.8973204376090058, 'f1': 0.9006748466257669}"
      ]
     },
     "execution_count": 16,
     "metadata": {},
     "output_type": "execute_result"
    }
   ],
   "source": [
    "from datasets import load_metric\n",
    "from sklearn.metrics import confusion_matrix, classification_report\n",
    "import numpy as np\n",
    "\n",
    "predictions = trainer.predict(tokenized_datasets[\"test\"])\n",
    "print(predictions.predictions.shape, predictions.label_ids.shape)\n",
    "\n",
    "preds = np.argmax(predictions.predictions, axis=-1)\n",
    "\n",
    "metric = load_metric(\"glue\", \"mrpc\")\n",
    "metric.compute(predictions=preds, references=predictions.label_ids)"
   ]
  },
  {
   "cell_type": "code",
   "execution_count": 17,
   "id": "57667abd-26f5-4d15-aeea-8448e3021126",
   "metadata": {},
   "outputs": [
    {
     "data": {
      "text/plain": [
       "array([[13616,  2071],\n",
       "       [ 1167, 14681]])"
      ]
     },
     "execution_count": 17,
     "metadata": {},
     "output_type": "execute_result"
    }
   ],
   "source": [
    "confusion_matrix(tokenized_datasets[\"test\"][\"label\"], preds)"
   ]
  },
  {
   "cell_type": "code",
   "execution_count": 18,
   "id": "eae49547-09ab-4dfa-ac6b-7027b8ac9a9d",
   "metadata": {},
   "outputs": [
    {
     "name": "stdout",
     "output_type": "stream",
     "text": [
      "{'0': {'precision': 0.921057971994859,\n",
      "       'recall': 0.8679798559316632,\n",
      "       'f1-score': 0.8937315392189039,\n",
      "       'support': 15687},\n",
      " '1': {'precision': 0.876372970391595,\n",
      "       'recall': 0.9263629480060576,\n",
      "       'f1-score': 0.9006748466257669,\n",
      "       'support': 15848},\n",
      " 'accuracy': 0.8973204376090058,\n",
      " 'macro avg': {'precision': 0.898715471193227,\n",
      "               'recall': 0.8971714019688604,\n",
      "               'f1-score': 0.8972031929223354,\n",
      "               'support': 31535},\n",
      " 'weighted avg': {'precision': 0.8986014029316426,\n",
      "                  'recall': 0.8973204376090058,\n",
      "                  'f1-score': 0.8972209172364706,\n",
      "                  'support': 31535}}\n"
     ]
    }
   ],
   "source": [
    "from pprint import pp\n",
    "\n",
    "pp(classification_report(tokenized_datasets[\"test\"][\"label\"], preds, output_dict=True))"
   ]
  },
  {
   "cell_type": "code",
   "execution_count": 28,
   "id": "f8175789-0317-4ce8-8db7-ef77ffa126be",
   "metadata": {},
   "outputs": [
    {
     "data": {
      "text/plain": [
       "SequenceClassifierOutput(loss=None, logits=tensor([[-3.9288,  3.4672]], device='cuda:0', grad_fn=<AddmmBackward0>), hidden_states=None, attentions=None)"
      ]
     },
     "execution_count": 28,
     "metadata": {},
     "output_type": "execute_result"
    }
   ],
   "source": [
    "inputs = tokenizer(\"I'm a gay woman\", padding=True, truncation=True, max_length=512, return_tensors='pt',).to(model.device)\n",
    "model(**inputs)"
   ]
  },
  {
   "cell_type": "code",
   "execution_count": 23,
   "id": "a3ed52c1-a66d-434c-80b0-a41c0a2ab158",
   "metadata": {},
   "outputs": [
    {
     "data": {
      "text/plain": [
       "'[CLS] \" Conservatives felt strongly that hanging four men out to die in Benghazi was despicable and we have been severely ridiculed for taking a principled stand. \" No, you\\'re ridiculed for your nonstop efforts to use the blood of those men for political gain, when even Republican witch - hunt investigations could find no proof that anything would have changed the outcome that day, and yet you hypocritically say not a peep about all the attacks and deaths on US diplomatic facilities and personnel that happened under Republican administrations. There is nothing principled about your position. [SEP]'"
      ]
     },
     "execution_count": 23,
     "metadata": {},
     "output_type": "execute_result"
    }
   ],
   "source": [
    "tokenizer.decode(tokenized_datasets['train']['input_ids'][0])"
   ]
  },
  {
   "cell_type": "code",
   "execution_count": 22,
   "id": "e98e5492-e45b-447c-8d74-0dd211a6cabc",
   "metadata": {},
   "outputs": [
    {
     "data": {
      "application/vnd.jupyter.widget-view+json": {
       "model_id": "fa9153ba4ef7411b82926ce8ff2eaf5b",
       "version_major": 2,
       "version_minor": 0
      },
      "text/plain": [
       "  0%|          | 0/192 [00:00<?, ?ba/s]"
      ]
     },
     "metadata": {},
     "output_type": "display_data"
    },
    {
     "name": "stderr",
     "output_type": "stream",
     "text": [
      "The following columns in the test set  don't have a corresponding argument in `BertForSequenceClassification.forward` and have been ignored: comment_text.\n",
      "***** Running Prediction *****\n",
      "  Num examples = 191787\n",
      "  Batch size = 8\n"
     ]
    },
    {
     "name": "stdout",
     "output_type": "stream",
     "text": [
      "(191787, 2) (191787,)\n",
      "array([[153415,  23129],\n",
      "       [   825,  14418]])\n",
      "{'0': {'precision': 0.9946511929460581,\n",
      "       'recall': 0.8689901667572957,\n",
      "       'f1-score': 0.9275841636838542,\n",
      "       'support': 176544},\n",
      " '1': {'precision': 0.3839987216022585,\n",
      "       'recall': 0.9458767959063177,\n",
      "       'f1-score': 0.5462398181473764,\n",
      "       'support': 15243},\n",
      " 'accuracy': 0.8751010235313134,\n",
      " 'macro avg': {'precision': 0.6893249572741583,\n",
      "               'recall': 0.9074334813318067,\n",
      "               'f1-score': 0.7369119909156153,\n",
      "               'support': 191787},\n",
      " 'weighted avg': {'precision': 0.9461172692666975,\n",
      "                  'recall': 0.8751010235313134,\n",
      "                  'f1-score': 0.8972753739378728,\n",
      "                  'support': 191787}}\n"
     ]
    }
   ],
   "source": [
    "# Validação \n",
    "\n",
    "test_df = df[df['split'] == 'test']\n",
    "\n",
    "test_dataset = Dataset.from_dict({\n",
    "    'comment_text': test_df['comment_text'],\n",
    "    'label': test_df['label'],\n",
    "})\n",
    "tokenized_test = test_dataset.map(tokenize_function, batched=True)\n",
    "predictions = trainer.predict(tokenized_test)\n",
    "print(predictions.predictions.shape, predictions.label_ids.shape)\n",
    "\n",
    "preds = np.argmax(predictions.predictions, axis=-1)\n",
    "\n",
    "pp(confusion_matrix(tokenized_test[\"label\"], preds))\n",
    "pp(classification_report(tokenized_test[\"label\"], preds, output_dict=True))"
   ]
  },
  {
   "cell_type": "markdown",
   "id": "497bc028-834e-41ce-88b2-c65c912352d4",
   "metadata": {},
   "source": [
    "# ANÁLISE DE VIÉS"
   ]
  },
  {
   "cell_type": "code",
   "execution_count": 23,
   "id": "6d28cffe-2d89-475f-84a4-141a418668b1",
   "metadata": {},
   "outputs": [],
   "source": [
    "# recarrega dataset\n",
    "bdf = pd.read_csv('data/all_data.csv')\n",
    "bdf.dropna(subset=['comment_text', 'toxicity'], inplace=True)\n",
    "# df.dropna(axis='columns', inplace=True)\n",
    "# remove duplicados\n",
    "bdf.drop_duplicates(subset=['comment_text',], keep='first', inplace=True)\n",
    "bdf.comment_text = bdf.comment_text.replace('\\xad', '', regex=True)  # remove os caracteres \\xad que aparecem em alguns spams\n",
    "bdf.isnull().sum()\n",
    "bdf = bdf.dropna(subset=['male',])\n",
    "bdf['label'] = np.where(bdf['toxicity'] >= 0.5, 1, 0)\n"
   ]
  },
  {
   "cell_type": "code",
   "execution_count": 24,
   "id": "f378c47f-96b7-4c23-8756-c58773bc8e17",
   "metadata": {},
   "outputs": [
    {
     "data": {
      "application/vnd.jupyter.widget-view+json": {
       "model_id": "f90d3dce713640f1b9c935956fdcda47",
       "version_major": 2,
       "version_minor": 0
      },
      "text/plain": [
       "  0%|          | 0/5 [00:00<?, ?ba/s]"
      ]
     },
     "metadata": {},
     "output_type": "display_data"
    },
    {
     "name": "stderr",
     "output_type": "stream",
     "text": [
      "The following columns in the test set  don't have a corresponding argument in `BertForSequenceClassification.forward` and have been ignored: comment_text.\n",
      "***** Running Prediction *****\n",
      "  Num examples = 4363\n",
      "  Batch size = 8\n"
     ]
    },
    {
     "name": "stdout",
     "output_type": "stream",
     "text": [
      "array([[2571, 1126],\n",
      "       [  27,  639]])\n",
      "{'0': {'precision': 0.9896073903002309,\n",
      "       'recall': 0.6954287259940493,\n",
      "       'f1-score': 0.8168387609213662,\n",
      "       'support': 3697},\n",
      " '1': {'precision': 0.3620396600566572,\n",
      "       'recall': 0.9594594594594594,\n",
      "       'f1-score': 0.5257095845331139,\n",
      "       'support': 666},\n",
      " 'accuracy': 0.7357322942929178,\n",
      " 'macro avg': {'precision': 0.6758235251784441,\n",
      "               'recall': 0.8274440927267543,\n",
      "               'f1-score': 0.67127417272724,\n",
      "               'support': 4363},\n",
      " 'weighted avg': {'precision': 0.893810895149596,\n",
      "                  'recall': 0.7357322942929178,\n",
      "                  'f1-score': 0.7723986895313649,\n",
      "                  'support': 4363}}\n"
     ]
    }
   ],
   "source": [
    "# Análise Bias - Male\n",
    "\n",
    "tbias_df = bdf[bdf['split'] == 'test']\n",
    "tbias_df = tbias_df[tbias_df['male'] >= 0.5]\n",
    "\n",
    "test_dataset = Dataset.from_dict({\n",
    "    'comment_text': tbias_df['comment_text'],\n",
    "    'label': tbias_df['label'],\n",
    "})\n",
    "tokenized_test = test_dataset.map(tokenize_function, batched=True)\n",
    "predictions = trainer.predict(tokenized_test)\n",
    "\n",
    "preds = np.argmax(predictions.predictions, axis=-1)\n",
    "\n",
    "pp(confusion_matrix(tbias_df[\"label\"], preds))\n",
    "pp(classification_report(tbias_df[\"label\"], preds, output_dict=True))"
   ]
  },
  {
   "cell_type": "code",
   "execution_count": 25,
   "id": "fad03785-ef4c-4011-913a-70943081d1ec",
   "metadata": {},
   "outputs": [
    {
     "data": {
      "application/vnd.jupyter.widget-view+json": {
       "model_id": "bed166abe7724e5ea6df3f9101bdc9f9",
       "version_major": 2,
       "version_minor": 0
      },
      "text/plain": [
       "  0%|          | 0/6 [00:00<?, ?ba/s]"
      ]
     },
     "metadata": {},
     "output_type": "display_data"
    },
    {
     "name": "stderr",
     "output_type": "stream",
     "text": [
      "The following columns in the test set  don't have a corresponding argument in `BertForSequenceClassification.forward` and have been ignored: comment_text.\n",
      "***** Running Prediction *****\n",
      "  Num examples = 5138\n",
      "  Batch size = 8\n"
     ]
    },
    {
     "name": "stdout",
     "output_type": "stream",
     "text": [
      "array([[3218, 1231],\n",
      "       [  36,  653]])\n",
      "{'0': {'precision': 0.9889366933005531,\n",
      "       'recall': 0.723308608676107,\n",
      "       'f1-score': 0.8355186291055432,\n",
      "       'support': 4449},\n",
      " '1': {'precision': 0.3466029723991507,\n",
      "       'recall': 0.9477503628447025,\n",
      "       'f1-score': 0.5075787019043918,\n",
      "       'support': 689},\n",
      " 'accuracy': 0.7534059945504087,\n",
      " 'macro avg': {'precision': 0.6677698328498519,\n",
      "               'recall': 0.8355294857604048,\n",
      "               'f1-score': 0.6715486655049675,\n",
      "               'support': 5138},\n",
      " 'weighted avg': {'precision': 0.902800466422183,\n",
      "                  'recall': 0.7534059945504087,\n",
      "                  'f1-score': 0.7915422550608578,\n",
      "                  'support': 5138}}\n"
     ]
    }
   ],
   "source": [
    "# Análise Bias - Female\n",
    "\n",
    "tbias_df = bdf[bdf['split'] == 'test']\n",
    "tbias_df = tbias_df[tbias_df['female'] >= 0.5]\n",
    "\n",
    "test_dataset = Dataset.from_dict({\n",
    "    'comment_text': tbias_df['comment_text'],\n",
    "    'label': tbias_df['label'],\n",
    "})\n",
    "tokenized_test = test_dataset.map(tokenize_function, batched=True)\n",
    "predictions = trainer.predict(tokenized_test)\n",
    "\n",
    "preds = np.argmax(predictions.predictions, axis=-1)\n",
    "\n",
    "pp(confusion_matrix(tbias_df[\"label\"], preds))\n",
    "pp(classification_report(tbias_df[\"label\"], preds, output_dict=True))"
   ]
  },
  {
   "cell_type": "code",
   "execution_count": 26,
   "id": "adc2f9d9-eff9-4aeb-bd7d-0c9545419356",
   "metadata": {},
   "outputs": [
    {
     "data": {
      "application/vnd.jupyter.widget-view+json": {
       "model_id": "15c80a1158ca40a3be74f1231b823365",
       "version_major": 2,
       "version_minor": 0
      },
      "text/plain": [
       "  0%|          | 0/2 [00:00<?, ?ba/s]"
      ]
     },
     "metadata": {},
     "output_type": "display_data"
    },
    {
     "name": "stderr",
     "output_type": "stream",
     "text": [
      "The following columns in the test set  don't have a corresponding argument in `BertForSequenceClassification.forward` and have been ignored: comment_text.\n",
      "***** Running Prediction *****\n",
      "  Num examples = 1064\n",
      "  Batch size = 8\n"
     ]
    },
    {
     "name": "stdout",
     "output_type": "stream",
     "text": [
      "array([[273, 502],\n",
      "       [ 10, 279]])\n",
      "{'0': {'precision': 0.9646643109540636,\n",
      "       'recall': 0.352258064516129,\n",
      "       'f1-score': 0.5160680529300566,\n",
      "       'support': 775},\n",
      " '1': {'precision': 0.35723431498079383,\n",
      "       'recall': 0.9653979238754326,\n",
      "       'f1-score': 0.5214953271028037,\n",
      "       'support': 289},\n",
      " 'accuracy': 0.518796992481203,\n",
      " 'macro avg': {'precision': 0.6609493129674286,\n",
      "               'recall': 0.6588279941957808,\n",
      "               'f1-score': 0.5187816900164302,\n",
      "               'support': 1064},\n",
      " 'weighted avg': {'precision': 0.7996762763335044,\n",
      "                  'recall': 0.518796992481203,\n",
      "                  'f1-score': 0.5175421903698347,\n",
      "                  'support': 1064}}\n"
     ]
    }
   ],
   "source": [
    "# Análise Bias - homosexual_gay_or_lesbian\n",
    "\n",
    "tbias_df = bdf[bdf['split'] == 'test']\n",
    "tbias_df = tbias_df[tbias_df['homosexual_gay_or_lesbian'] >= 0.5]\n",
    "\n",
    "test_dataset = Dataset.from_dict({\n",
    "    'comment_text': tbias_df['comment_text'],\n",
    "    'label': tbias_df['label'],\n",
    "})\n",
    "tokenized_test = test_dataset.map(tokenize_function, batched=True)\n",
    "predictions = trainer.predict(tokenized_test)\n",
    "\n",
    "preds = np.argmax(predictions.predictions, axis=-1)\n",
    "\n",
    "pp(confusion_matrix(tbias_df[\"label\"], preds))\n",
    "pp(classification_report(tbias_df[\"label\"], preds, output_dict=True))"
   ]
  },
  {
   "cell_type": "code",
   "execution_count": 27,
   "id": "b8928e05-6fed-4bb3-a0fe-7907903ef8e7",
   "metadata": {},
   "outputs": [
    {
     "data": {
      "application/vnd.jupyter.widget-view+json": {
       "model_id": "6c898cd746564275bd49f69586ce59fa",
       "version_major": 2,
       "version_minor": 0
      },
      "text/plain": [
       "  0%|          | 0/5 [00:00<?, ?ba/s]"
      ]
     },
     "metadata": {},
     "output_type": "display_data"
    },
    {
     "name": "stderr",
     "output_type": "stream",
     "text": [
      "The following columns in the test set  don't have a corresponding argument in `BertForSequenceClassification.forward` and have been ignored: comment_text.\n",
      "***** Running Prediction *****\n",
      "  Num examples = 4198\n",
      "  Batch size = 8\n"
     ]
    },
    {
     "name": "stdout",
     "output_type": "stream",
     "text": [
      "array([[3025,  759],\n",
      "       [  27,  387]])\n",
      "{'0': {'precision': 0.9911533420707732,\n",
      "       'recall': 0.7994186046511628,\n",
      "       'f1-score': 0.8850204798127561,\n",
      "       'support': 3784},\n",
      " '1': {'precision': 0.337696335078534,\n",
      "       'recall': 0.9347826086956522,\n",
      "       'f1-score': 0.4961538461538461,\n",
      "       'support': 414},\n",
      " 'accuracy': 0.8127679847546451,\n",
      " 'macro avg': {'precision': 0.6644248385746536,\n",
      "               'recall': 0.8671006066734075,\n",
      "               'f1-score': 0.6905871629833011,\n",
      "               'support': 4198},\n",
      " 'weighted avg': {'precision': 0.926710464296884,\n",
      "                  'recall': 0.8127679847546451,\n",
      "                  'f1-score': 0.846671078589605,\n",
      "                  'support': 4198}}\n"
     ]
    }
   ],
   "source": [
    "# Análise Bias - christian\n",
    "\n",
    "tbias_df = bdf[bdf['split'] == 'test']\n",
    "tbias_df = tbias_df[tbias_df['christian'] >= 0.5]\n",
    "\n",
    "test_dataset = Dataset.from_dict({\n",
    "    'comment_text': tbias_df['comment_text'],\n",
    "    'label': tbias_df['label'],\n",
    "})\n",
    "tokenized_test = test_dataset.map(tokenize_function, batched=True)\n",
    "predictions = trainer.predict(tokenized_test)\n",
    "\n",
    "preds = np.argmax(predictions.predictions, axis=-1)\n",
    "\n",
    "pp(confusion_matrix(tbias_df[\"label\"], preds))\n",
    "pp(classification_report(tbias_df[\"label\"], preds, output_dict=True))"
   ]
  },
  {
   "cell_type": "code",
   "execution_count": 28,
   "id": "6d43b6fe-53e2-41e1-8676-75fbe19a3686",
   "metadata": {},
   "outputs": [
    {
     "data": {
      "application/vnd.jupyter.widget-view+json": {
       "model_id": "a52f4b43379b40b3b37caffbe602292a",
       "version_major": 2,
       "version_minor": 0
      },
      "text/plain": [
       "  0%|          | 0/1 [00:00<?, ?ba/s]"
      ]
     },
     "metadata": {},
     "output_type": "display_data"
    },
    {
     "name": "stderr",
     "output_type": "stream",
     "text": [
      "The following columns in the test set  don't have a corresponding argument in `BertForSequenceClassification.forward` and have been ignored: comment_text.\n",
      "***** Running Prediction *****\n",
      "  Num examples = 831\n",
      "  Batch size = 8\n"
     ]
    },
    {
     "name": "stdout",
     "output_type": "stream",
     "text": [
      "array([[436, 258],\n",
      "       [  6, 131]])\n",
      "{'0': {'precision': 0.9864253393665159,\n",
      "       'recall': 0.6282420749279539,\n",
      "       'f1-score': 0.7676056338028171,\n",
      "       'support': 694},\n",
      " '1': {'precision': 0.33676092544987146,\n",
      "       'recall': 0.9562043795620438,\n",
      "       'f1-score': 0.49809885931558934,\n",
      "       'support': 137},\n",
      " 'accuracy': 0.6823104693140795,\n",
      " 'macro avg': {'precision': 0.6615931324081936,\n",
      "               'recall': 0.7922232272449989,\n",
      "               'f1-score': 0.6328522465592032,\n",
      "               'support': 831},\n",
      " 'weighted avg': {'precision': 0.879320616494578,\n",
      "                  'recall': 0.6823104693140795,\n",
      "                  'f1-score': 0.7231743123771249,\n",
      "                  'support': 831}}\n"
     ]
    }
   ],
   "source": [
    "# Análise Bias - jewish\n",
    "\n",
    "tbias_df = bdf[bdf['split'] == 'test']\n",
    "tbias_df = tbias_df[tbias_df['jewish'] >= 0.5]\n",
    "\n",
    "test_dataset = Dataset.from_dict({\n",
    "    'comment_text': tbias_df['comment_text'],\n",
    "    'label': tbias_df['label'],\n",
    "})\n",
    "tokenized_test = test_dataset.map(tokenize_function, batched=True)\n",
    "predictions = trainer.predict(tokenized_test)\n",
    "\n",
    "preds = np.argmax(predictions.predictions, axis=-1)\n",
    "\n",
    "pp(confusion_matrix(tbias_df[\"label\"], preds))\n",
    "pp(classification_report(tbias_df[\"label\"], preds, output_dict=True))"
   ]
  },
  {
   "cell_type": "code",
   "execution_count": 29,
   "id": "bb110a16-9930-4a39-bc9f-ad67d4950bac",
   "metadata": {},
   "outputs": [
    {
     "data": {
      "application/vnd.jupyter.widget-view+json": {
       "model_id": "31cf436fd90b49e585cde00b404035e0",
       "version_major": 2,
       "version_minor": 0
      },
      "text/plain": [
       "  0%|          | 0/3 [00:00<?, ?ba/s]"
      ]
     },
     "metadata": {},
     "output_type": "display_data"
    },
    {
     "name": "stderr",
     "output_type": "stream",
     "text": [
      "The following columns in the test set  don't have a corresponding argument in `BertForSequenceClassification.forward` and have been ignored: comment_text.\n",
      "***** Running Prediction *****\n",
      "  Num examples = 2013\n",
      "  Batch size = 8\n"
     ]
    },
    {
     "name": "stdout",
     "output_type": "stream",
     "text": [
      "array([[697, 837],\n",
      "       [ 18, 461]])\n",
      "{'0': {'precision': 0.9748251748251748,\n",
      "       'recall': 0.45436766623207303,\n",
      "       'f1-score': 0.6198310360160072,\n",
      "       'support': 1534},\n",
      " '1': {'precision': 0.3551617873651772,\n",
      "       'recall': 0.9624217118997912,\n",
      "       'f1-score': 0.5188519977490151,\n",
      "       'support': 479},\n",
      " 'accuracy': 0.5752608047690015,\n",
      " 'macro avg': {'precision': 0.664993481095176,\n",
      "               'recall': 0.7083946890659321,\n",
      "               'f1-score': 0.5693415168825111,\n",
      "               'support': 2013},\n",
      " 'weighted avg': {'precision': 0.8273742247042912,\n",
      "                  'recall': 0.5752608047690015,\n",
      "                  'f1-score': 0.5958027402733895,\n",
      "                  'support': 2013}}\n"
     ]
    }
   ],
   "source": [
    "# Análise Bias - muslim\n",
    "\n",
    "tbias_df = bdf[bdf['split'] == 'test']\n",
    "tbias_df = tbias_df[tbias_df['muslim'] >= 0.5]\n",
    "\n",
    "test_dataset = Dataset.from_dict({\n",
    "    'comment_text': tbias_df['comment_text'],\n",
    "    'label': tbias_df['label'],\n",
    "})\n",
    "tokenized_test = test_dataset.map(tokenize_function, batched=True)\n",
    "predictions = trainer.predict(tokenized_test)\n",
    "\n",
    "preds = np.argmax(predictions.predictions, axis=-1)\n",
    "\n",
    "pp(confusion_matrix(tbias_df[\"label\"], preds))\n",
    "pp(classification_report(tbias_df[\"label\"], preds, output_dict=True))"
   ]
  },
  {
   "cell_type": "code",
   "execution_count": 30,
   "id": "9243b555-623d-4d8b-8925-6d4e3cb44d96",
   "metadata": {},
   "outputs": [
    {
     "data": {
      "application/vnd.jupyter.widget-view+json": {
       "model_id": "72ff3cf83bea43cfae47a720fa3ec92a",
       "version_major": 2,
       "version_minor": 0
      },
      "text/plain": [
       "  0%|          | 0/2 [00:00<?, ?ba/s]"
      ]
     },
     "metadata": {},
     "output_type": "display_data"
    },
    {
     "name": "stderr",
     "output_type": "stream",
     "text": [
      "The following columns in the test set  don't have a corresponding argument in `BertForSequenceClassification.forward` and have been ignored: comment_text.\n",
      "***** Running Prediction *****\n",
      "  Num examples = 1507\n",
      "  Batch size = 8\n"
     ]
    },
    {
     "name": "stdout",
     "output_type": "stream",
     "text": [
      "array([[285, 726],\n",
      "       [  8, 488]])\n",
      "{'0': {'precision': 0.9726962457337884,\n",
      "       'recall': 0.2818991097922849,\n",
      "       'f1-score': 0.4371165644171779,\n",
      "       'support': 1011},\n",
      " '1': {'precision': 0.40197693574958815,\n",
      "       'recall': 0.9838709677419355,\n",
      "       'f1-score': 0.5707602339181287,\n",
      "       'support': 496},\n",
      " 'accuracy': 0.5129396151293961,\n",
      " 'macro avg': {'precision': 0.6873365907416883,\n",
      "               'recall': 0.6328850387671102,\n",
      "               'f1-score': 0.5039383991676533,\n",
      "               'support': 1507},\n",
      " 'weighted avg': {'precision': 0.7848549864423727,\n",
      "                  'recall': 0.5129396151293961,\n",
      "                  'f1-score': 0.4811028020233302,\n",
      "                  'support': 1507}}\n"
     ]
    }
   ],
   "source": [
    "# Análise Bias - black\n",
    "\n",
    "tbias_df = bdf[bdf['split'] == 'test']\n",
    "tbias_df = tbias_df[tbias_df['black'] >= 0.5]\n",
    "\n",
    "test_dataset = Dataset.from_dict({\n",
    "    'comment_text': tbias_df['comment_text'],\n",
    "    'label': tbias_df['label'],\n",
    "})\n",
    "tokenized_test = test_dataset.map(tokenize_function, batched=True)\n",
    "predictions = trainer.predict(tokenized_test)\n",
    "\n",
    "preds = np.argmax(predictions.predictions, axis=-1)\n",
    "\n",
    "pp(confusion_matrix(tbias_df[\"label\"], preds))\n",
    "pp(classification_report(tbias_df[\"label\"], preds, output_dict=True))"
   ]
  },
  {
   "cell_type": "code",
   "execution_count": 31,
   "id": "49a4e652-635a-4ab8-9b7d-b67bfaa6b3a3",
   "metadata": {},
   "outputs": [
    {
     "data": {
      "application/vnd.jupyter.widget-view+json": {
       "model_id": "4fa11c22b33d43a1956fd1fabfec541c",
       "version_major": 2,
       "version_minor": 0
      },
      "text/plain": [
       "  0%|          | 0/3 [00:00<?, ?ba/s]"
      ]
     },
     "metadata": {},
     "output_type": "display_data"
    },
    {
     "name": "stderr",
     "output_type": "stream",
     "text": [
      "The following columns in the test set  don't have a corresponding argument in `BertForSequenceClassification.forward` and have been ignored: comment_text.\n",
      "***** Running Prediction *****\n",
      "  Num examples = 2428\n",
      "  Batch size = 8\n"
     ]
    },
    {
     "name": "stdout",
     "output_type": "stream",
     "text": [
      "array([[ 539, 1156],\n",
      "       [   9,  724]])\n",
      "{'0': {'precision': 0.9835766423357665,\n",
      "       'recall': 0.31799410029498526,\n",
      "       'f1-score': 0.48060633080695503,\n",
      "       'support': 1695},\n",
      " '1': {'precision': 0.3851063829787234,\n",
      "       'recall': 0.9877216916780355,\n",
      "       'f1-score': 0.5541523153463451,\n",
      "       'support': 733},\n",
      " 'accuracy': 0.520181219110379,\n",
      " 'macro avg': {'precision': 0.684341512657245,\n",
      "               'recall': 0.6528578959865103,\n",
      "               'f1-score': 0.5173793230766501,\n",
      "               'support': 2428},\n",
      " 'weighted avg': {'precision': 0.8029017246633149,\n",
      "                  'recall': 0.520181219110379,\n",
      "                  'f1-score': 0.5028094637012602,\n",
      "                  'support': 2428}}\n"
     ]
    }
   ],
   "source": [
    "# Análise Bias - white\n",
    "\n",
    "tbias_df = bdf[bdf['split'] == 'test']\n",
    "tbias_df = tbias_df[tbias_df['white'] >= 0.5]\n",
    "\n",
    "test_dataset = Dataset.from_dict({\n",
    "    'comment_text': tbias_df['comment_text'],\n",
    "    'label': tbias_df['label'],\n",
    "})\n",
    "tokenized_test = test_dataset.map(tokenize_function, batched=True)\n",
    "predictions = trainer.predict(tokenized_test)\n",
    "\n",
    "preds = np.argmax(predictions.predictions, axis=-1)\n",
    "\n",
    "pp(confusion_matrix(tbias_df[\"label\"], preds))\n",
    "pp(classification_report(tbias_df[\"label\"], preds, output_dict=True))"
   ]
  },
  {
   "cell_type": "code",
   "execution_count": 32,
   "id": "b323c6b6-3969-48c0-9282-25a8e406a78b",
   "metadata": {},
   "outputs": [
    {
     "data": {
      "application/vnd.jupyter.widget-view+json": {
       "model_id": "72d3ee2c422c43f3a47deb266f358c8d",
       "version_major": 2,
       "version_minor": 0
      },
      "text/plain": [
       "  0%|          | 0/1 [00:00<?, ?ba/s]"
      ]
     },
     "metadata": {},
     "output_type": "display_data"
    },
    {
     "name": "stderr",
     "output_type": "stream",
     "text": [
      "The following columns in the test set  don't have a corresponding argument in `BertForSequenceClassification.forward` and have been ignored: comment_text.\n",
      "***** Running Prediction *****\n",
      "  Num examples = 508\n",
      "  Batch size = 8\n"
     ]
    },
    {
     "name": "stdout",
     "output_type": "stream",
     "text": [
      "array([[274, 130],\n",
      "       [  7,  97]])\n",
      "{'0': {'precision': 0.9750889679715302,\n",
      "       'recall': 0.6782178217821783,\n",
      "       'f1-score': 0.8,\n",
      "       'support': 404},\n",
      " '1': {'precision': 0.42731277533039647,\n",
      "       'recall': 0.9326923076923077,\n",
      "       'f1-score': 0.5861027190332326,\n",
      "       'support': 104},\n",
      " 'accuracy': 0.7303149606299213,\n",
      " 'macro avg': {'precision': 0.7012008716509633,\n",
      "               'recall': 0.8054550647372429,\n",
      "               'f1-score': 0.6930513595166163,\n",
      "               'support': 508},\n",
      " 'weighted avg': {'precision': 0.8629458104229517,\n",
      "                  'recall': 0.7303149606299213,\n",
      "                  'f1-score': 0.7562100054713706,\n",
      "                  'support': 508}}\n"
     ]
    }
   ],
   "source": [
    "# Análise Bias - psychiatric_or_mental_illness\n",
    "\n",
    "tbias_df = bdf[bdf['split'] == 'test']\n",
    "tbias_df = tbias_df[tbias_df['psychiatric_or_mental_illness'] >= 0.5]\n",
    "\n",
    "test_dataset = Dataset.from_dict({\n",
    "    'comment_text': tbias_df['comment_text'],\n",
    "    'label': tbias_df['label'],\n",
    "})\n",
    "tokenized_test = test_dataset.map(tokenize_function, batched=True)\n",
    "predictions = trainer.predict(tokenized_test)\n",
    "\n",
    "preds = np.argmax(predictions.predictions, axis=-1)\n",
    "\n",
    "pp(confusion_matrix(tbias_df[\"label\"], preds))\n",
    "pp(classification_report(tbias_df[\"label\"], preds, output_dict=True))"
   ]
  },
  {
   "cell_type": "code",
   "execution_count": null,
   "id": "e3edce4c-3999-4b4d-8f57-68398ca8b829",
   "metadata": {},
   "outputs": [],
   "source": []
  }
 ],
 "metadata": {
  "kernelspec": {
   "display_name": "Python 3 (ipykernel)",
   "language": "python",
   "name": "python3"
  },
  "language_info": {
   "codemirror_mode": {
    "name": "ipython",
    "version": 3
   },
   "file_extension": ".py",
   "mimetype": "text/x-python",
   "name": "python",
   "nbconvert_exporter": "python",
   "pygments_lexer": "ipython3",
   "version": "3.9.7"
  }
 },
 "nbformat": 4,
 "nbformat_minor": 5
}
