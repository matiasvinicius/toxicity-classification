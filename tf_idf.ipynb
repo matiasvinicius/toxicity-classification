{
 "cells": [
  {
   "cell_type": "code",
   "execution_count": 1,
   "id": "99b3164d-c5b5-4768-af8b-9123036f4b3a",
   "metadata": {},
   "outputs": [],
   "source": [
    "#geral\n",
    "import pandas as pd\n",
    "import numpy as np\n",
    "\n",
    "#sklearn\n",
    "from sklearn.feature_extraction.text import CountVectorizer, TfidfTransformer\n",
    "\n",
    "#visual\n",
    "import matplotlib.pyplot as plt\n",
    "import seaborn as sns"
   ]
  },
  {
   "cell_type": "code",
   "execution_count": 2,
   "id": "5799cd10-8d12-41b0-92ce-b6ec0c8f6eaa",
   "metadata": {},
   "outputs": [],
   "source": [
    "df = pd.read_csv('data/all_data.csv')"
   ]
  },
  {
   "cell_type": "code",
   "execution_count": 3,
   "id": "296cc47d-8fa7-438f-83eb-ee904636ea65",
   "metadata": {},
   "outputs": [
    {
     "name": "stdout",
     "output_type": "stream",
     "text": [
      "(1999515, 21)\n"
     ]
    }
   ],
   "source": [
    "df.dropna(subset=['comment_text', 'toxicity'], inplace=True)\n",
    "df.dropna(axis='columns', inplace=True)\n",
    "print(df.shape)"
   ]
  },
  {
   "cell_type": "code",
   "execution_count": 4,
   "id": "7e2543d0-e6f5-4f17-ad51-f726d3c6e229",
   "metadata": {},
   "outputs": [
    {
     "data": {
      "text/plain": [
       "(1971915, 21)"
      ]
     },
     "execution_count": 4,
     "metadata": {},
     "output_type": "execute_result"
    }
   ],
   "source": [
    "# remove duplicados\n",
    "df.drop_duplicates(subset=['comment_text',], keep='first', inplace=True)\n",
    "df.shape # 1999515 - 1971915 = 27600 duplicados"
   ]
  },
  {
   "cell_type": "code",
   "execution_count": 5,
   "id": "054d772a-ca5e-4265-a8c0-9d15a79e6f8f",
   "metadata": {},
   "outputs": [],
   "source": [
    "# remove os caracteres \\xad que aparecem em alguns spams\n",
    "df.comment_text = df.comment_text.replace('\\xad', '', regex=True) "
   ]
  },
  {
   "cell_type": "code",
   "execution_count": 6,
   "id": "c28bb013-a003-4f4d-bc21-367a7cea2105",
   "metadata": {},
   "outputs": [],
   "source": [
    "# expand contractions\n",
    "import contractions\n",
    "df.comment_text = df.comment_text.apply(contractions.fix)"
   ]
  },
  {
   "cell_type": "code",
   "execution_count": 7,
   "id": "9aea6e8b-d70a-4812-8d56-c46976f4b201",
   "metadata": {},
   "outputs": [],
   "source": [
    "df['label'] = np.where(df['toxicity'] >= 0.5, 1, 0)"
   ]
  },
  {
   "cell_type": "code",
   "execution_count": 8,
   "id": "d259e6ed-d49a-44f9-84f6-b170e5a9da5f",
   "metadata": {},
   "outputs": [
    {
     "data": {
      "text/plain": [
       "DatasetDict({\n",
       "    train: Dataset({\n",
       "        features: ['comment_text', 'label'],\n",
       "        num_rows: 283813\n",
       "    })\n",
       "    test: Dataset({\n",
       "        features: ['comment_text', 'label'],\n",
       "        num_rows: 31535\n",
       "    })\n",
       "})"
      ]
     },
     "execution_count": 8,
     "metadata": {},
     "output_type": "execute_result"
    }
   ],
   "source": [
    "from datasets import Dataset, DatasetDict\n",
    "from imblearn.under_sampling import RandomUnderSampler\n",
    "from sklearn.model_selection import train_test_split\n",
    "\n",
    "\n",
    "X = df.comment_text.to_numpy().reshape(-1,1)\n",
    "y = np.where(df[['toxicity']] >= 0.5, 1, 0).reshape(-1,1)\n",
    "\n",
    "under_sampler = RandomUnderSampler(random_state=0)\n",
    "X, y = under_sampler.fit_resample(X, y)\n",
    "\n",
    "raw_datasets = Dataset.from_dict({\n",
    "    'comment_text': X.ravel(),\n",
    "    'label': y,\n",
    "}).train_test_split(train_size=0.9, test_size=0.1)\n",
    "\n",
    "raw_datasets"
   ]
  },
  {
   "cell_type": "code",
   "execution_count": 25,
   "id": "1febb1c9-596a-438e-8e44-0873be8fc082",
   "metadata": {},
   "outputs": [
    {
     "name": "stderr",
     "output_type": "stream",
     "text": [
      "[nltk_data] Downloading package stopwords to /home/rafael/nltk_data...\n",
      "[nltk_data]   Package stopwords is already up-to-date!\n"
     ]
    }
   ],
   "source": [
    "# 1-grams\n",
    "import nltk\n",
    "from nltk.corpus import stopwords\n",
    "from nltk.tokenize import TweetTokenizer\n",
    "from sklearn.feature_extraction.text import CountVectorizer, TfidfTransformer, TfidfVectorizer\n",
    "from sklearn.pipeline import Pipeline\n",
    "\n",
    "nltk.download('stopwords')\n",
    "\n",
    "tknzr = TweetTokenizer(preserve_case=False, reduce_len=False)\n",
    "vectorizer = TfidfVectorizer(ngram_range=(1,1), tokenizer=tknzr.tokenize, strip_accents='unicode', lowercase=True, stop_words=stopwords.words('english'))\n",
    "\n",
    "pipeline = Pipeline([\n",
    "    ('vectorizer', vectorizer),\n",
    "])\n",
    "features = pipeline.fit_transform(raw_datasets['train']['comment_text'], raw_datasets['train']['label'])\n",
    "feature_names = pipeline['vectorizer'].get_feature_names_out()\n"
   ]
  },
  {
   "cell_type": "code",
   "execution_count": 26,
   "id": "b1bc602e-9a29-40b2-a7cd-48f1d2aa6cb6",
   "metadata": {},
   "outputs": [
    {
     "data": {
      "text/plain": [
       "array(['\\x13', '!', '\"', '#', '###ing', '###konki', '###off', '##ed',\n",
       "       '##hole'], dtype=object)"
      ]
     },
     "execution_count": 26,
     "metadata": {},
     "output_type": "execute_result"
    }
   ],
   "source": [
    "feature_names[1:10]"
   ]
  },
  {
   "cell_type": "code",
   "execution_count": 27,
   "id": "eab8af32-7bd9-4c82-a4fd-82dcf692df79",
   "metadata": {},
   "outputs": [
    {
     "data": {
      "text/plain": [
       "MultinomialNB()"
      ]
     },
     "execution_count": 27,
     "metadata": {},
     "output_type": "execute_result"
    }
   ],
   "source": [
    "from sklearn.naive_bayes import MultinomialNB\n",
    "clf = MultinomialNB()\n",
    "clf.fit(features, raw_datasets['train']['label'])"
   ]
  },
  {
   "cell_type": "code",
   "execution_count": 53,
   "id": "9bfaa840-46fe-4b84-8364-94c2ac83690d",
   "metadata": {},
   "outputs": [
    {
     "name": "stdout",
     "output_type": "stream",
     "text": [
      "(31535,)\n"
     ]
    },
    {
     "data": {
      "text/plain": [
       "{'accuracy': 0.7905501823370857, 'f1': 0.802782837180138}"
      ]
     },
     "execution_count": 53,
     "metadata": {},
     "output_type": "execute_result"
    }
   ],
   "source": [
    "from datasets import load_metric\n",
    "from sklearn.metrics import confusion_matrix, classification_report\n",
    "import numpy as np\n",
    "\n",
    "preds = clf.predict(pipeline.transform(raw_datasets[\"test\"][\"comment_text\"]))\n",
    "print(preds.shape)\n",
    "\n",
    "metric = load_metric(\"glue\", \"mrpc\")\n",
    "metric.compute(predictions=preds, references=raw_datasets[\"test\"][\"label\"])"
   ]
  },
  {
   "cell_type": "code",
   "execution_count": 54,
   "id": "57667abd-26f5-4d15-aeea-8448e3021126",
   "metadata": {},
   "outputs": [
    {
     "data": {
      "text/plain": [
       "array([[11487,  4200],\n",
       "       [ 2405, 13443]])"
      ]
     },
     "execution_count": 54,
     "metadata": {},
     "output_type": "execute_result"
    }
   ],
   "source": [
    "confusion_matrix(raw_datasets[\"test\"][\"label\"], preds)"
   ]
  },
  {
   "cell_type": "code",
   "execution_count": 15,
   "id": "eae49547-09ab-4dfa-ac6b-7027b8ac9a9d",
   "metadata": {},
   "outputs": [
    {
     "name": "stdout",
     "output_type": "stream",
     "text": [
      "{'0': {'precision': 0.8268787791534696,\n",
      "       'recall': 0.7322623828647925,\n",
      "       'f1-score': 0.776699685587748,\n",
      "       'support': 15687},\n",
      " '1': {'precision': 0.7619452474069036,\n",
      "       'recall': 0.8482458354366481,\n",
      "       'f1-score': 0.802782837180138,\n",
      "       'support': 15848},\n",
      " 'accuracy': 0.7905501823370857,\n",
      " 'macro avg': {'precision': 0.7944120132801866,\n",
      "               'recall': 0.7902541091507203,\n",
      "               'f1-score': 0.789741261383943,\n",
      "               'support': 31535},\n",
      " 'weighted avg': {'precision': 0.7942462562069158,\n",
      "                  'recall': 0.7905501823370857,\n",
      "                  'f1-score': 0.7898078443458325,\n",
      "                  'support': 31535}}\n"
     ]
    }
   ],
   "source": [
    "from pprint import pp\n",
    "\n",
    "pp(classification_report(raw_datasets[\"test\"][\"label\"], preds, output_dict=True))"
   ]
  },
  {
   "cell_type": "code",
   "execution_count": 16,
   "id": "3151f802-803a-4693-a0ec-ff1083a57b39",
   "metadata": {},
   "outputs": [
    {
     "name": "stderr",
     "output_type": "stream",
     "text": [
      "/home/rafael/.cache/pypoetry/virtualenvs/mineracao-XH4Rs9qH-py3.9/lib/python3.9/site-packages/sklearn/feature_extraction/text.py:1208: UserWarning: Upper case characters found in vocabulary while 'lowercase' is True. These entries will not be matched with any documents\n",
      "  warnings.warn(\n"
     ]
    },
    {
     "name": "stdout",
     "output_type": "stream",
     "text": [
      "{'accuracy': 0.7995877596321548, 'f1': 0.808310585380649}\n",
      "array([[11890,  3797],\n",
      "       [ 2523, 13325]])\n",
      "{'0': {'precision': 0.8249496981891348,\n",
      "       'recall': 0.7579524446994327,\n",
      "       'f1-score': 0.7900332225913621,\n",
      "       'support': 15687},\n",
      " '1': {'precision': 0.77823852353697,\n",
      "       'recall': 0.8408001009591115,\n",
      "       'f1-score': 0.808310585380649,\n",
      "       'support': 15848},\n",
      " 'accuracy': 0.7995877596321548,\n",
      " 'macro avg': {'precision': 0.8015941108630524,\n",
      "               'recall': 0.7993762728292721,\n",
      "               'f1-score': 0.7991719039860056,\n",
      "               'support': 31535},\n",
      " 'weighted avg': {'precision': 0.8014748703506218,\n",
      "                  'recall': 0.7995877596321548,\n",
      "                  'f1-score': 0.7992185609609395,\n",
      "                  'support': 31535}}\n"
     ]
    }
   ],
   "source": [
    "# Ngrams 1-4\n",
    "\n",
    "vectorizer = TfidfVectorizer(ngram_range=(1,4), tokenizer=tknzr.tokenize, strip_accents='unicode', lowercase=True, stop_words=stopwords.words('english'))\n",
    "\n",
    "pipeline = Pipeline([\n",
    "    ('vectorizer', vectorizer),\n",
    "    ('clf', MultinomialNB())\n",
    "])\n",
    "\n",
    "pipeline.fit(raw_datasets['train']['comment_text'], raw_datasets['train']['label'])\n",
    "\n",
    "\n",
    "preds = pipeline.predict(raw_datasets[\"test\"][\"comment_text\"])\n",
    "\n",
    "metric = load_metric(\"glue\", \"mrpc\")\n",
    "pp(metric.compute(predictions=preds, references=raw_datasets[\"test\"][\"label\"]))\n",
    "pp(confusion_matrix(raw_datasets[\"test\"][\"label\"], preds))\n",
    "pp(classification_report(raw_datasets[\"test\"][\"label\"], preds, output_dict=True))\n"
   ]
  },
  {
   "cell_type": "code",
   "execution_count": 17,
   "id": "46d84e94-a965-4fca-a73a-c7f7b8db39b4",
   "metadata": {
    "tags": []
   },
   "outputs": [
    {
     "name": "stdout",
     "output_type": "stream",
     "text": [
      "{'accuracy': 0.7581734580624703, 'f1': 0.7590673575129534}\n",
      "array([[11896,  3791],\n",
      "       [ 3835, 12013]])\n",
      "{'0': {'precision': 0.7562138452736634,\n",
      "       'recall': 0.7583349270096258,\n",
      "       'f1-score': 0.757272900884843,\n",
      "       'support': 15687},\n",
      " '1': {'precision': 0.7601240192356365,\n",
      "       'recall': 0.7580136294800606,\n",
      "       'f1-score': 0.7590673575129534,\n",
      "       'support': 15848},\n",
      " 'accuracy': 0.7581734580624703,\n",
      " 'macro avg': {'precision': 0.75816893225465,\n",
      "               'recall': 0.7581742782448432,\n",
      "               'f1-score': 0.7581701291988983,\n",
      "               'support': 31535},\n",
      " 'weighted avg': {'precision': 0.7581789138308016,\n",
      "                  'recall': 0.7581734580624703,\n",
      "                  'f1-score': 0.7581747099427879,\n",
      "                  'support': 31535}}\n"
     ]
    }
   ],
   "source": [
    "# Removing non alpha characters\n",
    "from sklearn.preprocessing import FunctionTransformer\n",
    "\n",
    "\n",
    "def remove_non_alpha(vec):\n",
    "    for x in vec:\n",
    "        x = x.split()\n",
    "        yield ' '.join([s for s in x if s.isalpha()])\n",
    "\n",
    "pipeline = Pipeline([\n",
    "    ('remove_non_alpha', FunctionTransformer(remove_non_alpha)),\n",
    "    ('vectorizer', vectorizer),\n",
    "    ('clf', MultinomialNB())\n",
    "])\n",
    "\n",
    "pipeline.fit(raw_datasets['train']['comment_text'], raw_datasets['train']['label'])\n",
    "\n",
    "\n",
    "preds = pipeline.predict(raw_datasets[\"test\"][\"comment_text\"])\n",
    "\n",
    "metric = load_metric(\"glue\", \"mrpc\")\n",
    "pp(metric.compute(predictions=preds, references=raw_datasets[\"test\"][\"label\"]))\n",
    "pp(confusion_matrix(raw_datasets[\"test\"][\"label\"], preds))\n",
    "pp(classification_report(raw_datasets[\"test\"][\"label\"], preds, output_dict=True))"
   ]
  },
  {
   "cell_type": "code",
   "execution_count": 18,
   "id": "e05ac797-7c85-432a-b9ef-637af8784db5",
   "metadata": {},
   "outputs": [
    {
     "name": "stdout",
     "output_type": "stream",
     "text": [
      "{'accuracy': 0.7591564927857936, 'f1': 0.7483849594169291}\n",
      "array([[12645,  3042],\n",
      "       [ 4553, 11295]])\n",
      "{'0': {'precision': 0.7352599139434818,\n",
      "       'recall': 0.8060814687320711,\n",
      "       'f1-score': 0.7690436369165273,\n",
      "       'support': 15687},\n",
      " '1': {'precision': 0.7878217200251099,\n",
      "       'recall': 0.7127082281675922,\n",
      "       'f1-score': 0.7483849594169291,\n",
      "       'support': 15848},\n",
      " 'accuracy': 0.7591564927857936,\n",
      " 'macro avg': {'precision': 0.7615408169842959,\n",
      "               'recall': 0.7593948484498316,\n",
      "               'f1-score': 0.7587142981667282,\n",
      "               'support': 31535},\n",
      " 'weighted avg': {'precision': 0.7616749925159138,\n",
      "                  'recall': 0.7591564927857936,\n",
      "                  'f1-score': 0.7586615623640101,\n",
      "                  'support': 31535}}\n"
     ]
    }
   ],
   "source": [
    "# Feature Selection\n",
    "from sklearn.feature_selection import SelectKBest\n",
    "\n",
    "\n",
    "pipeline = Pipeline([\n",
    "    ('remove_non_alpha', FunctionTransformer(remove_non_alpha)),\n",
    "    ('vectorizer', vectorizer),\n",
    "    ('kbest', SelectKBest(k=2500)),\n",
    "    ('clf', MultinomialNB())\n",
    "])\n",
    "\n",
    "pipeline.fit(raw_datasets['train']['comment_text'], raw_datasets['train']['label'])\n",
    "\n",
    "\n",
    "preds = pipeline.predict(raw_datasets[\"test\"][\"comment_text\"])\n",
    "\n",
    "metric = load_metric(\"glue\", \"mrpc\")\n",
    "pp(metric.compute(predictions=preds, references=raw_datasets[\"test\"][\"label\"]))\n",
    "pp(confusion_matrix(raw_datasets[\"test\"][\"label\"], preds))\n",
    "pp(classification_report(raw_datasets[\"test\"][\"label\"], preds, output_dict=True))"
   ]
  },
  {
   "cell_type": "code",
   "execution_count": 19,
   "id": "11777e4f-379d-4875-a054-be0f62c0b67f",
   "metadata": {
    "tags": []
   },
   "outputs": [
    {
     "name": "stderr",
     "output_type": "stream",
     "text": [
      "/home/rafael/.cache/pypoetry/virtualenvs/mineracao-XH4Rs9qH-py3.9/lib/python3.9/site-packages/sklearn/feature_extraction/text.py:1208: UserWarning: Upper case characters found in vocabulary while 'lowercase' is True. These entries will not be matched with any documents\n",
      "  warnings.warn(\n"
     ]
    },
    {
     "name": "stdout",
     "output_type": "stream",
     "text": [
      "{'accuracy': 0.8101157444109719, 'f1': 0.8109848484848485}\n",
      "array([[12701,  2986],\n",
      "       [ 3002, 12846]])\n",
      "{'0': {'precision': 0.8088263389161306,\n",
      "       'recall': 0.8096513036272073,\n",
      "       'f1-score': 0.8092386110226185,\n",
      "       'support': 15687},\n",
      " '1': {'precision': 0.8113946437594745,\n",
      "       'recall': 0.810575466935891,\n",
      "       'f1-score': 0.8109848484848485,\n",
      "       'support': 15848},\n",
      " 'accuracy': 0.8101157444109719,\n",
      " 'macro avg': {'precision': 0.8101104913378026,\n",
      "               'recall': 0.8101133852815492,\n",
      "               'f1-score': 0.8101117297537335,\n",
      "               'support': 31535},\n",
      " 'weighted avg': {'precision': 0.8101170474988899,\n",
      "                  'recall': 0.8101157444109719,\n",
      "                  'f1-score': 0.8101161874076326,\n",
      "                  'support': 31535}}\n"
     ]
    }
   ],
   "source": [
    "# DecisionTreeClassifier\n",
    "from sklearn.tree import DecisionTreeClassifier\n",
    "\n",
    "vectorizer = TfidfVectorizer(ngram_range=(1,1), tokenizer=tknzr.tokenize, strip_accents='unicode', lowercase=True, stop_words=stopwords.words('english'))\n",
    "\n",
    "\n",
    "pipeline = Pipeline([\n",
    "    ('vectorizer', vectorizer),\n",
    "    ('clf', DecisionTreeClassifier())\n",
    "])\n",
    "\n",
    "pipeline.fit(raw_datasets['train']['comment_text'], raw_datasets['train']['label'])\n",
    "\n",
    "\n",
    "preds = pipeline.predict(raw_datasets[\"test\"][\"comment_text\"])\n",
    "\n",
    "metric = load_metric(\"glue\", \"mrpc\")\n",
    "pp(metric.compute(predictions=preds, references=raw_datasets[\"test\"][\"label\"]))\n",
    "pp(confusion_matrix(raw_datasets[\"test\"][\"label\"], preds))\n",
    "pp(classification_report(raw_datasets[\"test\"][\"label\"], preds, output_dict=True))"
   ]
  },
  {
   "cell_type": "code",
   "execution_count": 55,
   "id": "4ccb1492-fe4c-4fd6-a3fd-2d7eb2a7f1b1",
   "metadata": {},
   "outputs": [
    {
     "name": "stderr",
     "output_type": "stream",
     "text": [
      "/home/rafael/.cache/pypoetry/virtualenvs/mineracao-XH4Rs9qH-py3.9/lib/python3.9/site-packages/sklearn/feature_extraction/text.py:1208: UserWarning: Upper case characters found in vocabulary while 'lowercase' is True. These entries will not be matched with any documents\n",
      "  warnings.warn(\n"
     ]
    },
    {
     "name": "stdout",
     "output_type": "stream",
     "text": [
      "{'accuracy': 0.8680196606944665, 'f1': 0.8642530984996738}\n",
      "array([[14124,  1563],\n",
      "       [ 2599, 13249]])\n",
      "{'0': {'precision': 0.8445853016803205,\n",
      "       'recall': 0.9003633581946835,\n",
      "       'f1-score': 0.8715828448009874,\n",
      "       'support': 15687},\n",
      " '1': {'precision': 0.894477450715636,\n",
      "       'recall': 0.8360045431600202,\n",
      "       'f1-score': 0.8642530984996738,\n",
      "       'support': 15848},\n",
      " 'accuracy': 0.8680196606944665,\n",
      " 'macro avg': {'precision': 0.8695313761979783,\n",
      "               'recall': 0.8681839506773519,\n",
      "               'f1-score': 0.8679179716503306,\n",
      "               'support': 31535},\n",
      " 'weighted avg': {'precision': 0.8696587368447943,\n",
      "                  'recall': 0.8680196606944665,\n",
      "                  'f1-score': 0.8678992608662096,\n",
      "                  'support': 31535}}\n"
     ]
    }
   ],
   "source": [
    "# LogisticRegression\n",
    "from sklearn.linear_model import LogisticRegression\n",
    "\n",
    "pipeline = Pipeline([\n",
    "    ('vectorizer', vectorizer),\n",
    "    ('clf', LogisticRegression(max_iter=1000))\n",
    "])\n",
    "\n",
    "pipeline.fit(raw_datasets['train']['comment_text'], raw_datasets['train']['label'])\n",
    "\n",
    "\n",
    "preds = pipeline.predict(raw_datasets[\"test\"][\"comment_text\"])\n",
    "\n",
    "metric = load_metric(\"glue\", \"mrpc\")\n",
    "pp(metric.compute(predictions=preds, references=raw_datasets[\"test\"][\"label\"]))\n",
    "pp(confusion_matrix(raw_datasets[\"test\"][\"label\"], preds))\n",
    "pp(classification_report(raw_datasets[\"test\"][\"label\"], preds, output_dict=True))"
   ]
  },
  {
   "cell_type": "code",
   "execution_count": 56,
   "id": "969fc938-b35a-42cc-a654-67f2bbb5c7c9",
   "metadata": {},
   "outputs": [
    {
     "name": "stderr",
     "output_type": "stream",
     "text": [
      "/home/rafael/.cache/pypoetry/virtualenvs/mineracao-XH4Rs9qH-py3.9/lib/python3.9/site-packages/sklearn/feature_extraction/text.py:1208: UserWarning: Upper case characters found in vocabulary while 'lowercase' is True. These entries will not be matched with any documents\n",
      "  warnings.warn(\n"
     ]
    },
    {
     "name": "stdout",
     "output_type": "stream",
     "text": [
      "{'accuracy': 0.8561281116220073, 'f1': 0.8501700736435389}\n",
      "array([[14126,  1561],\n",
      "       [ 2976, 12872]])\n",
      "{'0': {'precision': 0.8259852648813004,\n",
      "       'recall': 0.9004908522980812,\n",
      "       'f1-score': 0.861630424837598,\n",
      "       'support': 15687},\n",
      " '1': {'precision': 0.8918450772535162,\n",
      "       'recall': 0.812216052498738,\n",
      "       'f1-score': 0.8501700736435389,\n",
      "       'support': 15848},\n",
      " 'accuracy': 0.8561281116220073,\n",
      " 'macro avg': {'precision': 0.8589151710674083,\n",
      "               'recall': 0.8563534523984095,\n",
      "               'f1-score': 0.8559002492405685,\n",
      "               'support': 31535},\n",
      " 'weighted avg': {'precision': 0.8590832926750178,\n",
      "                  'recall': 0.8561281116220073,\n",
      "                  'f1-score': 0.8558709941820265,\n",
      "                  'support': 31535}}\n"
     ]
    }
   ],
   "source": [
    "# LogisticRegression com Feature Selection\n",
    "from sklearn.linear_model import LogisticRegression\n",
    "\n",
    "pipeline = Pipeline([\n",
    "    ('vectorizer', vectorizer),\n",
    "    ('kbest', SelectKBest(k=1000)),\n",
    "    ('clf', LogisticRegression(max_iter=1000))\n",
    "])\n",
    "\n",
    "pipeline.fit(raw_datasets['train']['comment_text'], raw_datasets['train']['label'])\n",
    "\n",
    "\n",
    "preds = pipeline.predict(raw_datasets[\"test\"][\"comment_text\"])\n",
    "\n",
    "metric = load_metric(\"glue\", \"mrpc\")\n",
    "pp(metric.compute(predictions=preds, references=raw_datasets[\"test\"][\"label\"]))\n",
    "pp(confusion_matrix(raw_datasets[\"test\"][\"label\"], preds))\n",
    "pp(classification_report(raw_datasets[\"test\"][\"label\"], preds, output_dict=True))"
   ]
  }
 ],
 "metadata": {
  "kernelspec": {
   "display_name": "Python 3 (ipykernel)",
   "language": "python",
   "name": "python3"
  },
  "language_info": {
   "codemirror_mode": {
    "name": "ipython",
    "version": 3
   },
   "file_extension": ".py",
   "mimetype": "text/x-python",
   "name": "python",
   "nbconvert_exporter": "python",
   "pygments_lexer": "ipython3",
   "version": "3.9.7"
  }
 },
 "nbformat": 4,
 "nbformat_minor": 5
}
